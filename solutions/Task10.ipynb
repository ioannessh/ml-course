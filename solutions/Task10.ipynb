{
  "nbformat": 4,
  "nbformat_minor": 0,
  "metadata": {
    "colab": {
      "provenance": [],
      "gpuType": "T4"
    },
    "kernelspec": {
      "name": "python3",
      "display_name": "Python 3"
    },
    "language_info": {
      "name": "python"
    },
    "accelerator": "GPU"
  },
  "cells": [
    {
      "cell_type": "markdown",
      "source": [
        "# Задача 10. Graph Convolutional Network\n",
        "\n",
        "- Найти графовый набор данных для решения задачи предсказания (классификация вершин, обнаружение сообществ и т.д.).\n",
        "- Использовать несколько слоев GCNConv из библиотеки PyG для построения GCN модели.\n",
        "- Обучить полученную модель, подобрать гиперпараметры (например, learning rate) на валидационной выборке, и оценить качество предсказания на тестовой выборке.\n",
        "- (+5 баллов) Также представить самостоятельную реализацию слоя GCNConv, используя матричные операции. Повторить обучение с собственными слоями и сравнить результаты."
      ],
      "metadata": {
        "id": "4XcStAsQtCcg"
      }
    },
    {
      "cell_type": "code",
      "source": [
        "!pip install torch-scatter torch-cluster torch-spline-conv torch-geometric -f https://data.pyg.org/whl/torch-2.1.0+cu121.html"
      ],
      "metadata": {
        "colab": {
          "base_uri": "https://localhost:8080/"
        },
        "id": "yi8LZYeDyDxu",
        "outputId": "33f9fd4d-a39b-4f80-ba24-1b1a281d19d0"
      },
      "execution_count": 1,
      "outputs": [
        {
          "output_type": "stream",
          "name": "stdout",
          "text": [
            "Looking in links: https://data.pyg.org/whl/torch-2.1.0+cu121.html\n",
            "Requirement already satisfied: torch-scatter in /usr/local/lib/python3.11/dist-packages (2.1.2+pt21cu121)\n",
            "Requirement already satisfied: torch-cluster in /usr/local/lib/python3.11/dist-packages (1.6.3+pt21cu121)\n",
            "Requirement already satisfied: torch-spline-conv in /usr/local/lib/python3.11/dist-packages (1.2.2+pt21cu121)\n",
            "Requirement already satisfied: torch-geometric in /usr/local/lib/python3.11/dist-packages (2.6.1)\n",
            "Requirement already satisfied: scipy in /usr/local/lib/python3.11/dist-packages (from torch-cluster) (1.15.3)\n",
            "Requirement already satisfied: aiohttp in /usr/local/lib/python3.11/dist-packages (from torch-geometric) (3.11.15)\n",
            "Requirement already satisfied: fsspec in /usr/local/lib/python3.11/dist-packages (from torch-geometric) (2025.3.2)\n",
            "Requirement already satisfied: jinja2 in /usr/local/lib/python3.11/dist-packages (from torch-geometric) (3.1.6)\n",
            "Requirement already satisfied: numpy in /usr/local/lib/python3.11/dist-packages (from torch-geometric) (2.0.2)\n",
            "Requirement already satisfied: psutil>=5.8.0 in /usr/local/lib/python3.11/dist-packages (from torch-geometric) (5.9.5)\n",
            "Requirement already satisfied: pyparsing in /usr/local/lib/python3.11/dist-packages (from torch-geometric) (3.2.3)\n",
            "Requirement already satisfied: requests in /usr/local/lib/python3.11/dist-packages (from torch-geometric) (2.32.3)\n",
            "Requirement already satisfied: tqdm in /usr/local/lib/python3.11/dist-packages (from torch-geometric) (4.67.1)\n",
            "Requirement already satisfied: aiohappyeyeballs>=2.3.0 in /usr/local/lib/python3.11/dist-packages (from aiohttp->torch-geometric) (2.6.1)\n",
            "Requirement already satisfied: aiosignal>=1.1.2 in /usr/local/lib/python3.11/dist-packages (from aiohttp->torch-geometric) (1.3.2)\n",
            "Requirement already satisfied: attrs>=17.3.0 in /usr/local/lib/python3.11/dist-packages (from aiohttp->torch-geometric) (25.3.0)\n",
            "Requirement already satisfied: frozenlist>=1.1.1 in /usr/local/lib/python3.11/dist-packages (from aiohttp->torch-geometric) (1.7.0)\n",
            "Requirement already satisfied: multidict<7.0,>=4.5 in /usr/local/lib/python3.11/dist-packages (from aiohttp->torch-geometric) (6.4.4)\n",
            "Requirement already satisfied: propcache>=0.2.0 in /usr/local/lib/python3.11/dist-packages (from aiohttp->torch-geometric) (0.3.2)\n",
            "Requirement already satisfied: yarl<2.0,>=1.17.0 in /usr/local/lib/python3.11/dist-packages (from aiohttp->torch-geometric) (1.20.1)\n",
            "Requirement already satisfied: MarkupSafe>=2.0 in /usr/local/lib/python3.11/dist-packages (from jinja2->torch-geometric) (3.0.2)\n",
            "Requirement already satisfied: charset-normalizer<4,>=2 in /usr/local/lib/python3.11/dist-packages (from requests->torch-geometric) (3.4.2)\n",
            "Requirement already satisfied: idna<4,>=2.5 in /usr/local/lib/python3.11/dist-packages (from requests->torch-geometric) (3.10)\n",
            "Requirement already satisfied: urllib3<3,>=1.21.1 in /usr/local/lib/python3.11/dist-packages (from requests->torch-geometric) (2.4.0)\n",
            "Requirement already satisfied: certifi>=2017.4.17 in /usr/local/lib/python3.11/dist-packages (from requests->torch-geometric) (2025.6.15)\n"
          ]
        }
      ]
    },
    {
      "cell_type": "markdown",
      "source": [
        "# Датасет\n",
        "\n",
        "В качестве датасета используется Cora - датасет для задач классификации графов. Признак вершины - слова отражающие содержание статьи.\n",
        "Задача заключается в определении тематики статьи по её содержанию и связям"
      ],
      "metadata": {
        "id": "H_nTd3YQP5ME"
      }
    },
    {
      "cell_type": "code",
      "execution_count": 2,
      "metadata": {
        "colab": {
          "base_uri": "https://localhost:8080/"
        },
        "id": "PyvE0PBVskAU",
        "outputId": "8af6279e-36cd-4152-fb52-a6944277cfa7"
      },
      "outputs": [
        {
          "output_type": "stream",
          "name": "stderr",
          "text": [
            "/usr/local/lib/python3.11/dist-packages/torch_geometric/typing.py:86: UserWarning: An issue occurred while importing 'torch-scatter'. Disabling its usage. Stacktrace: /usr/local/lib/python3.11/dist-packages/torch_scatter/_version_cuda.so: undefined symbol: _ZN3c1017RegisterOperatorsD1Ev\n",
            "  warnings.warn(f\"An issue occurred while importing 'torch-scatter'. \"\n",
            "/usr/local/lib/python3.11/dist-packages/torch_geometric/typing.py:97: UserWarning: An issue occurred while importing 'torch-cluster'. Disabling its usage. Stacktrace: /usr/local/lib/python3.11/dist-packages/torch_cluster/_version_cuda.so: undefined symbol: _ZN3c1017RegisterOperatorsD1Ev\n",
            "  warnings.warn(f\"An issue occurred while importing 'torch-cluster'. \"\n",
            "/usr/local/lib/python3.11/dist-packages/torch_geometric/typing.py:113: UserWarning: An issue occurred while importing 'torch-spline-conv'. Disabling its usage. Stacktrace: /usr/local/lib/python3.11/dist-packages/torch_spline_conv/_version_cuda.so: undefined symbol: _ZN3c1017RegisterOperatorsD1Ev\n",
            "  warnings.warn(\n"
          ]
        }
      ],
      "source": [
        "from torch_geometric.datasets import Planetoid\n",
        "\n",
        "dataset = Planetoid(root='/tmp/Cora', name='Cora')\n",
        "data = dataset[0]\n"
      ]
    },
    {
      "cell_type": "code",
      "source": [
        "print(f\"Число признаков на вершину: {dataset.num_features}\")\n",
        "print(f\"Число классов: {dataset.num_classes}\")\n",
        "print(f\"Число вершин: {data.num_nodes}\")\n",
        "print(f\"Число рёбер: {data.num_edges}\")\n",
        "print(f\"Доля обучающей выборки: {data.train_mask.sum().item()} узлов\")\n",
        "print(f\"Доля валидации: {data.val_mask.sum().item()} узлов\")\n",
        "print(f\"Доля тестовой выборки: {data.test_mask.sum().item()} узлов\")\n",
        "print(f\"Наличие самосвязей (self-loops): {data.has_self_loops()}\")\n",
        "print(f\"Граф ориентированный? {'Да' if data.is_directed() else 'Нет'}\")\n"
      ],
      "metadata": {
        "colab": {
          "base_uri": "https://localhost:8080/"
        },
        "id": "HS-cJ2UBQUIw",
        "outputId": "19eddae5-91ff-4096-f6ae-18b8d6f02f63"
      },
      "execution_count": 3,
      "outputs": [
        {
          "output_type": "stream",
          "name": "stdout",
          "text": [
            "Число признаков на вершину: 1433\n",
            "Число классов: 7\n",
            "Число вершин: 2708\n",
            "Число рёбер: 10556\n",
            "Доля обучающей выборки: 140 узлов\n",
            "Доля валидации: 500 узлов\n",
            "Доля тестовой выборки: 1000 узлов\n",
            "Наличие самосвязей (self-loops): False\n",
            "Граф ориентированный? Нет\n"
          ]
        }
      ]
    },
    {
      "cell_type": "code",
      "source": [
        "import torch\n",
        "import torch.nn as nn\n",
        "import torch.nn.functional as F\n",
        "from torch_geometric.nn import GCNConv\n",
        "from torch_geometric.datasets import Planetoid\n",
        "from torch_geometric.utils import add_self_loops, degree\n"
      ],
      "metadata": {
        "id": "ZqETzi5QtHkI"
      },
      "execution_count": 4,
      "outputs": []
    },
    {
      "cell_type": "markdown",
      "source": [
        "# GCN"
      ],
      "metadata": {
        "id": "iooCc7bpRuV0"
      }
    },
    {
      "cell_type": "code",
      "source": [
        "class GCN(torch.nn.Module):\n",
        "    def __init__(self, hidden_channels):\n",
        "        super().__init__()\n",
        "        self.conv1 = GCNConv(dataset.num_features, hidden_channels)\n",
        "        self.conv2 = GCNConv(hidden_channels, dataset.num_classes)\n",
        "\n",
        "    def forward(self, x, edge_index):\n",
        "        x = self.conv1(x, edge_index).relu()\n",
        "        x = F.dropout(x, p=0.5, training=self.training)\n",
        "        x = self.conv2(x, edge_index)\n",
        "        return F.log_softmax(x, dim=1)\n",
        "\n",
        "model = GCN(hidden_channels=16)"
      ],
      "metadata": {
        "id": "7nghrxf88eGs"
      },
      "execution_count": 5,
      "outputs": []
    },
    {
      "cell_type": "markdown",
      "source": [
        "# Кастомный GCN"
      ],
      "metadata": {
        "id": "fnnfD0wBR4jw"
      }
    },
    {
      "cell_type": "code",
      "source": [
        "class CustomGCNConv(nn.Module):\n",
        "    def __init__(self, in_channels, out_channels, bias=True):\n",
        "        super().__init__()\n",
        "        self.weight = nn.Parameter(torch.Tensor(in_channels, out_channels))\n",
        "        if bias:\n",
        "            self.bias = nn.Parameter(torch.Tensor(out_channels))\n",
        "        else:\n",
        "            self.register_parameter('bias', None)\n",
        "        self.reset_parameters()\n",
        "\n",
        "    def reset_parameters(self):\n",
        "        nn.init.xavier_uniform_(self.weight)\n",
        "        if self.bias is not None:\n",
        "            nn.init.zeros_(self.bias)\n",
        "\n",
        "    def forward(self, x, edge_index):\n",
        "        edge_index, _ = add_self_loops(edge_index, num_nodes=x.size(0))\n",
        "        row, col = edge_index\n",
        "        deg = degree(row, x.size(0), dtype=x.dtype)\n",
        "        deg_inv_sqrt = deg.pow(-0.5)\n",
        "        deg_inv_sqrt[deg_inv_sqrt == float('inf')] = 0\n",
        "        norm = deg_inv_sqrt[row] * deg_inv_sqrt[col]\n",
        "\n",
        "        adj = torch.sparse_coo_tensor(\n",
        "            indices=edge_index,\n",
        "            values=norm,\n",
        "            size=(x.size(0), x.size(0)),\n",
        "            device=x.device\n",
        "        )\n",
        "\n",
        "        x = torch.mm(x, self.weight)\n",
        "        out = torch.sparse.mm(adj, x)\n",
        "\n",
        "        if self.bias is not None:\n",
        "            out += self.bias\n",
        "        return out"
      ],
      "metadata": {
        "id": "VZ6tyX8LtJ05"
      },
      "execution_count": 6,
      "outputs": []
    },
    {
      "cell_type": "code",
      "source": [
        "class CustomGCN(nn.Module):\n",
        "    def __init__(self, hidden_channels):\n",
        "        super().__init__()\n",
        "        self.conv1 = CustomGCNConv(dataset.num_features, hidden_channels)\n",
        "        self.conv2 = CustomGCNConv(hidden_channels, dataset.num_classes)\n",
        "\n",
        "    def forward(self, x, edge_index):\n",
        "        x = self.conv1(x, edge_index).relu()\n",
        "        x = F.dropout(x, p=0.5, training=self.training)\n",
        "        x = self.conv2(x, edge_index)\n",
        "        return F.log_softmax(x, dim=1)"
      ],
      "metadata": {
        "id": "vbxaW1a2tLzQ"
      },
      "execution_count": 7,
      "outputs": []
    },
    {
      "cell_type": "code",
      "source": [
        "device = torch.device('cuda' if torch.cuda.is_available() else 'cpu')\n",
        "data = data.to(device)\n",
        "\n",
        "def create_model(use_custom=False):\n",
        "    if use_custom:\n",
        "        return CustomGCN(hidden_channels=16).to(device)\n",
        "    else:\n",
        "        from torch_geometric.nn import GCNConv\n",
        "        class PyGGCN(torch.nn.Module):\n",
        "            def __init__(self, hidden_channels):\n",
        "                super().__init__()\n",
        "                self.conv1 = GCNConv(dataset.num_features, hidden_channels)\n",
        "                self.conv2 = GCNConv(hidden_channels, dataset.num_classes)\n",
        "            def forward(self, x, edge_index):\n",
        "                x = self.conv1(x, edge_index).relu()\n",
        "                x = F.dropout(x, p=0.5, training=self.training)\n",
        "                x = self.conv2(x, edge_index)\n",
        "                return F.log_softmax(x, dim=1)\n",
        "        return PyGGCN(hidden_channels=16).to(device)\n",
        "\n",
        "def train(model, optimizer, data):\n",
        "    model.train()\n",
        "    optimizer.zero_grad()\n",
        "    out = model(data.x, data.edge_index)\n",
        "    loss = F.nll_loss(out[data.train_mask], data.y[data.train_mask])\n",
        "    loss.backward()\n",
        "    optimizer.step()\n",
        "    return loss.item()\n",
        "\n",
        "def test(model, data):\n",
        "    model.eval()\n",
        "    out = model(data.x, data.edge_index)\n",
        "    pred = out.argmax(dim=1)\n",
        "    accs = []\n",
        "    for mask in [data.train_mask, data.val_mask, data.test_mask]:\n",
        "        accs.append((pred[mask] == data.y[mask]).sum().item() / mask.sum().item())\n",
        "    return accs"
      ],
      "metadata": {
        "id": "vkbuPjCk1n1k"
      },
      "execution_count": 8,
      "outputs": []
    },
    {
      "cell_type": "code",
      "source": [
        "results = {}\n",
        "for model_name, use_custom in [('PyG GCN', False), ('Custom GCN', True)]:\n",
        "    model = create_model(use_custom)\n",
        "    optimizer = torch.optim.Adam(model.parameters(), lr=0.01, weight_decay=5e-4)\n",
        "\n",
        "    best_val_acc = 0\n",
        "    for epoch in range(1, 201):\n",
        "        loss = train(model, optimizer, data)\n",
        "        train_acc, val_acc, test_acc = test(model, data)\n",
        "\n",
        "        if val_acc > best_val_acc:\n",
        "            best_val_acc = val_acc\n",
        "            best_test_acc = test_acc\n",
        "\n",
        "        if epoch % 10 == 0:\n",
        "            print(f'{model_name} | Epoch: {epoch:03d}, Loss: {loss:.4f}, '\n",
        "                  f'Train: {train_acc:.4f}, Val: {val_acc:.4f}, Test: {test_acc:.4f}')\n",
        "\n",
        "    results[model_name] = best_test_acc\n",
        "    print(f'Optimized {model_name} | Best Test Acc: {best_test_acc:.4f}')\n",
        "\n",
        "print('\\nСравнение:')\n",
        "for name, acc in results.items():\n",
        "    print(f'{name}: {acc:.4f}')"
      ],
      "metadata": {
        "colab": {
          "base_uri": "https://localhost:8080/"
        },
        "id": "kyRaiXUZVNJ1",
        "outputId": "4d4fbd3a-e4b5-462c-a872-48aacc911f7d"
      },
      "execution_count": 9,
      "outputs": [
        {
          "output_type": "stream",
          "name": "stdout",
          "text": [
            "PyG GCN | Epoch: 010, Loss: 0.9049, Train: 0.9714, Val: 0.7700, Test: 0.7820\n",
            "PyG GCN | Epoch: 020, Loss: 0.2320, Train: 0.9929, Val: 0.7940, Test: 0.8100\n",
            "PyG GCN | Epoch: 030, Loss: 0.0749, Train: 1.0000, Val: 0.7740, Test: 0.8010\n",
            "PyG GCN | Epoch: 040, Loss: 0.0632, Train: 1.0000, Val: 0.7860, Test: 0.8010\n",
            "PyG GCN | Epoch: 050, Loss: 0.0461, Train: 1.0000, Val: 0.7780, Test: 0.7910\n",
            "PyG GCN | Epoch: 060, Loss: 0.0705, Train: 1.0000, Val: 0.7800, Test: 0.8020\n",
            "PyG GCN | Epoch: 070, Loss: 0.0353, Train: 1.0000, Val: 0.7760, Test: 0.7950\n",
            "PyG GCN | Epoch: 080, Loss: 0.0341, Train: 1.0000, Val: 0.7720, Test: 0.7890\n",
            "PyG GCN | Epoch: 090, Loss: 0.0510, Train: 1.0000, Val: 0.7760, Test: 0.7990\n",
            "PyG GCN | Epoch: 100, Loss: 0.0476, Train: 1.0000, Val: 0.7740, Test: 0.7990\n",
            "PyG GCN | Epoch: 110, Loss: 0.0306, Train: 1.0000, Val: 0.7820, Test: 0.8050\n",
            "PyG GCN | Epoch: 120, Loss: 0.0411, Train: 1.0000, Val: 0.7780, Test: 0.8090\n",
            "PyG GCN | Epoch: 130, Loss: 0.0329, Train: 1.0000, Val: 0.7740, Test: 0.8080\n",
            "PyG GCN | Epoch: 140, Loss: 0.0339, Train: 1.0000, Val: 0.7720, Test: 0.7940\n",
            "PyG GCN | Epoch: 150, Loss: 0.0328, Train: 1.0000, Val: 0.7720, Test: 0.8030\n",
            "PyG GCN | Epoch: 160, Loss: 0.0268, Train: 1.0000, Val: 0.7640, Test: 0.7940\n",
            "PyG GCN | Epoch: 170, Loss: 0.0311, Train: 1.0000, Val: 0.7600, Test: 0.8020\n",
            "PyG GCN | Epoch: 180, Loss: 0.0285, Train: 1.0000, Val: 0.7720, Test: 0.8010\n",
            "PyG GCN | Epoch: 190, Loss: 0.0226, Train: 1.0000, Val: 0.7720, Test: 0.8050\n",
            "PyG GCN | Epoch: 200, Loss: 0.0170, Train: 1.0000, Val: 0.7660, Test: 0.8130\n",
            "Optimized PyG GCN | Best Test Acc: 0.8090\n",
            "Custom GCN | Epoch: 010, Loss: 0.8688, Train: 0.9571, Val: 0.7340, Test: 0.7250\n",
            "Custom GCN | Epoch: 020, Loss: 0.2469, Train: 1.0000, Val: 0.7680, Test: 0.7830\n",
            "Custom GCN | Epoch: 030, Loss: 0.0928, Train: 1.0000, Val: 0.7700, Test: 0.7950\n",
            "Custom GCN | Epoch: 040, Loss: 0.0706, Train: 1.0000, Val: 0.7660, Test: 0.7930\n",
            "Custom GCN | Epoch: 050, Loss: 0.0588, Train: 1.0000, Val: 0.7660, Test: 0.7860\n",
            "Custom GCN | Epoch: 060, Loss: 0.0504, Train: 1.0000, Val: 0.7740, Test: 0.7890\n",
            "Custom GCN | Epoch: 070, Loss: 0.0362, Train: 1.0000, Val: 0.7800, Test: 0.8020\n",
            "Custom GCN | Epoch: 080, Loss: 0.0350, Train: 1.0000, Val: 0.7860, Test: 0.7960\n",
            "Custom GCN | Epoch: 090, Loss: 0.0351, Train: 1.0000, Val: 0.7800, Test: 0.7920\n",
            "Custom GCN | Epoch: 100, Loss: 0.0435, Train: 1.0000, Val: 0.7920, Test: 0.8060\n",
            "Custom GCN | Epoch: 110, Loss: 0.0436, Train: 1.0000, Val: 0.7740, Test: 0.7940\n",
            "Custom GCN | Epoch: 120, Loss: 0.0290, Train: 1.0000, Val: 0.7780, Test: 0.7930\n",
            "Custom GCN | Epoch: 130, Loss: 0.0297, Train: 1.0000, Val: 0.7840, Test: 0.8030\n",
            "Custom GCN | Epoch: 140, Loss: 0.0352, Train: 1.0000, Val: 0.7860, Test: 0.8050\n",
            "Custom GCN | Epoch: 150, Loss: 0.0403, Train: 1.0000, Val: 0.7820, Test: 0.8050\n",
            "Custom GCN | Epoch: 160, Loss: 0.0431, Train: 1.0000, Val: 0.7800, Test: 0.8120\n",
            "Custom GCN | Epoch: 170, Loss: 0.0311, Train: 1.0000, Val: 0.7820, Test: 0.8150\n",
            "Custom GCN | Epoch: 180, Loss: 0.0239, Train: 1.0000, Val: 0.7760, Test: 0.8080\n",
            "Custom GCN | Epoch: 190, Loss: 0.0337, Train: 1.0000, Val: 0.7780, Test: 0.8060\n",
            "Custom GCN | Epoch: 200, Loss: 0.0338, Train: 1.0000, Val: 0.7680, Test: 0.8000\n",
            "Optimized Custom GCN | Best Test Acc: 0.8080\n",
            "\n",
            "Сравнение:\n",
            "PyG GCN: 0.8090\n",
            "Custom GCN: 0.8080\n"
          ]
        }
      ]
    },
    {
      "cell_type": "markdown",
      "source": [
        "# Результат\n",
        "\n",
        "Для кастомной и базовой реализации точности достигли 0.8080 и 0.8090, соответственно.\n",
        "Полученные результаты демонстрируют схожую точность на тестовых данных, что говорит о правильности кастомной реализации"
      ],
      "metadata": {
        "id": "2pizMoadSIb8"
      }
    }
  ]
}